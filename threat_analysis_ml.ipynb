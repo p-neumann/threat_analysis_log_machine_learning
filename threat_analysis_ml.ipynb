{
 "cells": [
  {
   "cell_type": "markdown",
   "metadata": {},
   "source": [
    "## ML-based User Behavior Analysis and Prediction\n",
    "This project is to explore, analyze and build machine learning models from user behavior data. \n",
    "This project analyze the standard VPC Flow Logs from AWS, to detect potential threat from the data file.\n",
    "\n",
    "### Introduction\n",
    "Public sector organizations operate external facing applications with broad multi-task user interfaces. There are significant investments made in human-centered design, but new opportunities exist to enhance personalization of the interfaces through machine learning and AI to reduce burden on the public user in navigation and task performance. The problem involves leveraging information from user roles, prior behavior, schedules of required activities, and other characteristics to predict the intended reasons why users are entering a system at any given time, and where they plan to navigate and work. This information would be used to facilitate the users in those navigations.\n",
    "\n",
    "The objectives of this project are:\n",
    "+ Clean dirty log data and transform it for analytics.\n",
    "+ Exploratory data analysis to find user activity levels for different events, and user interaction with web components.\n",
    "+ Propose any hypothesis and test using selected features.\n",
    "+ Build machine learning models to predict user behaviors, including but not limited to signup, churn, etc.\n",
    "+ Identify user behaviors based on the AI/ML-based predictive models.\n",
    "\n",
    "### Data Sources\n",
    "Logfiles from AWS VPC from HealthSoft Inc.\n",
    "Attack Scan Periods from 2-10-21 File 1.zip,\n",
    "Attack Scan Periods from 2-10-21 File 2.zip,\n",
    "Attack Scan Periods from 2-10-21 File 3.zip. \n",
    "\n",
    "### Approaches\n",
    "1. Read data\n",
    "2. Clean data for processing\n",
    "3. Statistical analysis\n",
    "4. Applying machine learning mobels\n",
    "\n",
    "### Results:\n",
    "\n",
    "<img src=\"polynormal2.png\">\n",
    "\n",
    "References: \n",
    "1. https://github.com/flatiron-school/cambridge_data_science.git\n",
    "2. https://github.com/p-neumann/User-Behavior-Analysis-and-Prediction.git\n",
    "3. https://github.com/p-neumann/Intrusion-and-anomaly-detection-with-machine-learning.git\n",
    "4. https://github.com/p-neumann/Machine-Learning-with-Python.git\n",
    "5. https://github.com/p-neumann/python-seminar.git\n",
    "6. https://github.com/p-neumann/log-anomaly-detector.git"
   ]
  },
  {
   "cell_type": "code",
   "execution_count": 1,
   "metadata": {},
   "outputs": [],
   "source": [
    "import pandas as pd\n",
    "import os\n",
    "import json\n",
    "import datetime\n",
    "import matplotlib.pyplot as plt\n",
    "import csv\n",
    "import numpy as np\n",
    "%matplotlib inline"
   ]
  },
  {
   "cell_type": "markdown",
   "metadata": {},
   "source": [
    "First, read and append all the csv files into the dataset"
   ]
  },
  {
   "cell_type": "code",
   "execution_count": 2,
   "metadata": {},
   "outputs": [],
   "source": [
    "data = []\n",
    "fileNum = 2\n",
    "while fileNum < 115: \n",
    "    with open('data/logs-insights-results-' + str(fileNum) + '.csv') as f:\n",
    "        for line in csv.DictReader(f, fieldnames=('timestamp', 'message')):\n",
    "            data.append(line)\n",
    "        fileNum += 1"
   ]
  },
  {
   "cell_type": "code",
   "execution_count": 3,
   "metadata": {},
   "outputs": [
    {
     "data": {
      "text/plain": [
       "{'timestamp': '@timestamp', 'message': '@message'}"
      ]
     },
     "execution_count": 3,
     "metadata": {},
     "output_type": "execute_result"
    }
   ],
   "source": [
    "# check keys\n",
    "data[0]"
   ]
  },
  {
   "cell_type": "code",
   "execution_count": 4,
   "metadata": {
    "scrolled": true
   },
   "outputs": [
    {
     "data": {
      "text/plain": [
       "822226"
      ]
     },
     "execution_count": 4,
     "metadata": {},
     "output_type": "execute_result"
    }
   ],
   "source": [
    "# check size\n",
    "len(data)"
   ]
  },
  {
   "cell_type": "markdown",
   "metadata": {},
   "source": [
    "### Log attributes:\n",
    " - account: the account of the user \n",
    " - sourceIP: the ip address of the sender of the message\n",
    " - destIP: the receiver of the message\n",
    " - interface: the log stream of the message\n",
    " - srcPort: internet port of sender\n",
    " - dstPort: internet port of receiver\n",
    " - protocol: the network protocol used to communicate the message\n",
    " - byte: the size of the message\n",
    " - packets: number of segments of the message\n",
    " - startTime: the integer start time in unix time form\n",
    " - timeTook: exact time it took to send the message\n",
    " - status: either \"ACCEPT\" or \"REJECT\". Accept will be 1 and reject will be represented as 0."
   ]
  },
  {
   "cell_type": "code",
   "execution_count": 5,
   "metadata": {},
   "outputs": [
    {
     "name": "stdout",
     "output_type": "stream",
     "text": [
      "Date: 2021-02-10\n",
      "Time: 18:15:00.000\n",
      "AWS account: 430405884063\n",
      "Network interface: eni-0b6ce86ea40aaa41b\n",
      "Source IP: 50.245.225.205\n",
      "Destination IP: 172.16.1.52\n",
      "Status: 1\n",
      "Source port: 9622\n",
      "Destination port: 80\n",
      "Protocol: 6\n",
      "Packets of data: 5\n",
      "Size of data: 582 bytes\n",
      "Start time: 1612980900\n",
      "Time used: 9 seconds\n",
      "New size of dataset after filtering: 813100\n"
     ]
    }
   ],
   "source": [
    "date = []\n",
    "time = []\n",
    "account = []\n",
    "sourceIP = []\n",
    "destIP = []\n",
    "interface = []\n",
    "srcPort = []\n",
    "dstPort = []\n",
    "protocol = []\n",
    "byte = []\n",
    "packets = []\n",
    "startTime = []\n",
    "timeTook = []\n",
    "status = []\n",
    "\n",
    "na = None\n",
    "i = 1\n",
    "\n",
    "while i < len(data):\n",
    "    msg = data[i].get('message',na)\n",
    "    # filter out 'message' with no data\n",
    "    if 'ACCEPT' in msg or 'REJECT' in msg:\n",
    "        timeTokens = data[i].get('timestamp',na).split()\n",
    "        date.append(timeTokens[0])\n",
    "        time.append(timeTokens[1])\n",
    "        tokens = msg.split()\n",
    "        account.append(tokens[1])\n",
    "        interface.append(tokens[2])\n",
    "        sourceIP.append(tokens[3])\n",
    "        destIP.append(tokens[4])\n",
    "        \n",
    "        #storing actions\n",
    "        temp = 5\n",
    "        tempStr = ''\n",
    "        while(tokens[temp+1] != \"OK\"):\n",
    "            tempStr = tempStr + tokens[temp] + ' '\n",
    "            temp += 1\n",
    "        actionTokens = tempStr.split()\n",
    "        srcPort.append(actionTokens[0])\n",
    "        dstPort.append(actionTokens[1])\n",
    "        protocol.append(actionTokens[2])\n",
    "        packets.append(actionTokens[3])\n",
    "        byte.append(actionTokens[4])\n",
    "        startTime.append(int(actionTokens[5]))\n",
    "        timeTook.append(int(actionTokens[6]) - int(actionTokens[5]))\n",
    "        if(tokens[temp] == 'ACCEPT'):\n",
    "            status.append(1)\n",
    "        else:\n",
    "            status.append(0)\n",
    "    i += 1\n",
    "    \n",
    "# print label as well\n",
    "print('Date: ' + date[0])\n",
    "print('Time: ' + time[0])\n",
    "print('AWS account: ' + account[0])\n",
    "print('Network interface: ' + interface[0])\n",
    "print('Source IP: ' + sourceIP[0])\n",
    "print('Destination IP: ' + destIP[0])\n",
    "print('Status: ' + str(status[0]))\n",
    "print('Source port: ' + srcPort[0])\n",
    "print('Destination port: ' + dstPort[0])\n",
    "print('Protocol: ' + protocol[0])\n",
    "print('Packets of data: ' + packets[0])\n",
    "print('Size of data: ' + byte[0] + ' bytes')\n",
    "print('Start time: ' + str(startTime[0]))\n",
    "print('Time used: ' + str(timeTook[0]) + ' seconds')\n",
    "print('New size of dataset after filtering: ' + str(len(date)))"
   ]
  },
  {
   "cell_type": "code",
   "execution_count": 6,
   "metadata": {},
   "outputs": [],
   "source": [
    "df = pd.DataFrame({\n",
    "    \"date\":date,\n",
    "    \"time\":time,\n",
    "    \"account\":account,\n",
    "    \"interface\":interface,\n",
    "    \"sourceIP\":sourceIP,\n",
    "    \"destIP\":destIP,\n",
    "    \"srcPort\":srcPort,\n",
    "    \"dstPort\":dstPort,\n",
    "    \"protocol\":protocol,\n",
    "    \"packets\":packets,\n",
    "    \"byte\":byte,\n",
    "    \"startTime\":startTime,\n",
    "    \"timeTook\":timeTook,\n",
    "    \"status\":status\n",
    "})"
   ]
  },
  {
   "cell_type": "code",
   "execution_count": 7,
   "metadata": {
    "scrolled": true
   },
   "outputs": [
    {
     "data": {
      "text/html": [
       "<div>\n",
       "<style scoped>\n",
       "    .dataframe tbody tr th:only-of-type {\n",
       "        vertical-align: middle;\n",
       "    }\n",
       "\n",
       "    .dataframe tbody tr th {\n",
       "        vertical-align: top;\n",
       "    }\n",
       "\n",
       "    .dataframe thead th {\n",
       "        text-align: right;\n",
       "    }\n",
       "</style>\n",
       "<table border=\"1\" class=\"dataframe\">\n",
       "  <thead>\n",
       "    <tr style=\"text-align: right;\">\n",
       "      <th></th>\n",
       "      <th>date</th>\n",
       "      <th>time</th>\n",
       "      <th>account</th>\n",
       "      <th>interface</th>\n",
       "      <th>sourceIP</th>\n",
       "      <th>destIP</th>\n",
       "      <th>srcPort</th>\n",
       "      <th>dstPort</th>\n",
       "      <th>protocol</th>\n",
       "      <th>packets</th>\n",
       "      <th>byte</th>\n",
       "      <th>startTime</th>\n",
       "      <th>timeTook</th>\n",
       "      <th>status</th>\n",
       "    </tr>\n",
       "  </thead>\n",
       "  <tbody>\n",
       "    <tr>\n",
       "      <th>0</th>\n",
       "      <td>2021-02-10</td>\n",
       "      <td>18:15:00.000</td>\n",
       "      <td>430405884063</td>\n",
       "      <td>eni-0b6ce86ea40aaa41b</td>\n",
       "      <td>50.245.225.205</td>\n",
       "      <td>172.16.1.52</td>\n",
       "      <td>9622</td>\n",
       "      <td>80</td>\n",
       "      <td>6</td>\n",
       "      <td>5</td>\n",
       "      <td>582</td>\n",
       "      <td>1612980900</td>\n",
       "      <td>9</td>\n",
       "      <td>1</td>\n",
       "    </tr>\n",
       "    <tr>\n",
       "      <th>1</th>\n",
       "      <td>2021-02-10</td>\n",
       "      <td>18:15:00.000</td>\n",
       "      <td>430405884063</td>\n",
       "      <td>eni-0b6ce86ea40aaa41b</td>\n",
       "      <td>172.16.1.52</td>\n",
       "      <td>50.245.225.205</td>\n",
       "      <td>80</td>\n",
       "      <td>9622</td>\n",
       "      <td>6</td>\n",
       "      <td>5</td>\n",
       "      <td>689</td>\n",
       "      <td>1612980900</td>\n",
       "      <td>9</td>\n",
       "      <td>1</td>\n",
       "    </tr>\n",
       "    <tr>\n",
       "      <th>2</th>\n",
       "      <td>2021-02-10</td>\n",
       "      <td>18:15:00.000</td>\n",
       "      <td>430405884063</td>\n",
       "      <td>eni-0b6ce86ea40aaa41b</td>\n",
       "      <td>50.245.225.205</td>\n",
       "      <td>172.16.1.52</td>\n",
       "      <td>22050</td>\n",
       "      <td>80</td>\n",
       "      <td>6</td>\n",
       "      <td>6</td>\n",
       "      <td>648</td>\n",
       "      <td>1612980900</td>\n",
       "      <td>9</td>\n",
       "      <td>1</td>\n",
       "    </tr>\n",
       "    <tr>\n",
       "      <th>3</th>\n",
       "      <td>2021-02-10</td>\n",
       "      <td>18:15:00.000</td>\n",
       "      <td>430405884063</td>\n",
       "      <td>eni-0b6ce86ea40aaa41b</td>\n",
       "      <td>172.16.1.52</td>\n",
       "      <td>50.245.225.205</td>\n",
       "      <td>80</td>\n",
       "      <td>22050</td>\n",
       "      <td>6</td>\n",
       "      <td>5</td>\n",
       "      <td>582</td>\n",
       "      <td>1612980900</td>\n",
       "      <td>9</td>\n",
       "      <td>1</td>\n",
       "    </tr>\n",
       "    <tr>\n",
       "      <th>4</th>\n",
       "      <td>2021-02-10</td>\n",
       "      <td>18:15:00.000</td>\n",
       "      <td>430405884063</td>\n",
       "      <td>eni-0b6ce86ea40aaa41b</td>\n",
       "      <td>50.245.225.205</td>\n",
       "      <td>172.16.1.52</td>\n",
       "      <td>51466</td>\n",
       "      <td>80</td>\n",
       "      <td>6</td>\n",
       "      <td>8</td>\n",
       "      <td>723</td>\n",
       "      <td>1612980900</td>\n",
       "      <td>9</td>\n",
       "      <td>1</td>\n",
       "    </tr>\n",
       "    <tr>\n",
       "      <th>5</th>\n",
       "      <td>2021-02-10</td>\n",
       "      <td>18:15:00.000</td>\n",
       "      <td>430405884063</td>\n",
       "      <td>eni-0b6ce86ea40aaa41b</td>\n",
       "      <td>172.16.1.52</td>\n",
       "      <td>50.245.225.205</td>\n",
       "      <td>80</td>\n",
       "      <td>51466</td>\n",
       "      <td>6</td>\n",
       "      <td>11</td>\n",
       "      <td>10996</td>\n",
       "      <td>1612980900</td>\n",
       "      <td>9</td>\n",
       "      <td>1</td>\n",
       "    </tr>\n",
       "    <tr>\n",
       "      <th>6</th>\n",
       "      <td>2021-02-10</td>\n",
       "      <td>18:15:00.000</td>\n",
       "      <td>430405884063</td>\n",
       "      <td>eni-0b6ce86ea40aaa41b</td>\n",
       "      <td>50.245.225.205</td>\n",
       "      <td>172.16.1.52</td>\n",
       "      <td>49748</td>\n",
       "      <td>80</td>\n",
       "      <td>6</td>\n",
       "      <td>7</td>\n",
       "      <td>705</td>\n",
       "      <td>1612980900</td>\n",
       "      <td>9</td>\n",
       "      <td>1</td>\n",
       "    </tr>\n",
       "    <tr>\n",
       "      <th>7</th>\n",
       "      <td>2021-02-10</td>\n",
       "      <td>18:15:00.000</td>\n",
       "      <td>430405884063</td>\n",
       "      <td>eni-0b6ce86ea40aaa41b</td>\n",
       "      <td>172.16.1.52</td>\n",
       "      <td>50.245.225.205</td>\n",
       "      <td>80</td>\n",
       "      <td>49748</td>\n",
       "      <td>6</td>\n",
       "      <td>13</td>\n",
       "      <td>12958</td>\n",
       "      <td>1612980900</td>\n",
       "      <td>9</td>\n",
       "      <td>1</td>\n",
       "    </tr>\n",
       "    <tr>\n",
       "      <th>8</th>\n",
       "      <td>2021-02-10</td>\n",
       "      <td>18:15:00.000</td>\n",
       "      <td>430405884063</td>\n",
       "      <td>eni-0b6ce86ea40aaa41b</td>\n",
       "      <td>50.245.225.205</td>\n",
       "      <td>172.16.1.52</td>\n",
       "      <td>18681</td>\n",
       "      <td>80</td>\n",
       "      <td>6</td>\n",
       "      <td>5</td>\n",
       "      <td>572</td>\n",
       "      <td>1612980900</td>\n",
       "      <td>9</td>\n",
       "      <td>1</td>\n",
       "    </tr>\n",
       "    <tr>\n",
       "      <th>9</th>\n",
       "      <td>2021-02-10</td>\n",
       "      <td>18:15:00.000</td>\n",
       "      <td>430405884063</td>\n",
       "      <td>eni-0b6ce86ea40aaa41b</td>\n",
       "      <td>172.16.1.52</td>\n",
       "      <td>50.245.225.205</td>\n",
       "      <td>80</td>\n",
       "      <td>18681</td>\n",
       "      <td>6</td>\n",
       "      <td>5</td>\n",
       "      <td>638</td>\n",
       "      <td>1612980900</td>\n",
       "      <td>9</td>\n",
       "      <td>1</td>\n",
       "    </tr>\n",
       "  </tbody>\n",
       "</table>\n",
       "</div>"
      ],
      "text/plain": [
       "         date          time       account              interface  \\\n",
       "0  2021-02-10  18:15:00.000  430405884063  eni-0b6ce86ea40aaa41b   \n",
       "1  2021-02-10  18:15:00.000  430405884063  eni-0b6ce86ea40aaa41b   \n",
       "2  2021-02-10  18:15:00.000  430405884063  eni-0b6ce86ea40aaa41b   \n",
       "3  2021-02-10  18:15:00.000  430405884063  eni-0b6ce86ea40aaa41b   \n",
       "4  2021-02-10  18:15:00.000  430405884063  eni-0b6ce86ea40aaa41b   \n",
       "5  2021-02-10  18:15:00.000  430405884063  eni-0b6ce86ea40aaa41b   \n",
       "6  2021-02-10  18:15:00.000  430405884063  eni-0b6ce86ea40aaa41b   \n",
       "7  2021-02-10  18:15:00.000  430405884063  eni-0b6ce86ea40aaa41b   \n",
       "8  2021-02-10  18:15:00.000  430405884063  eni-0b6ce86ea40aaa41b   \n",
       "9  2021-02-10  18:15:00.000  430405884063  eni-0b6ce86ea40aaa41b   \n",
       "\n",
       "         sourceIP          destIP srcPort dstPort protocol packets   byte  \\\n",
       "0  50.245.225.205     172.16.1.52    9622      80        6       5    582   \n",
       "1     172.16.1.52  50.245.225.205      80    9622        6       5    689   \n",
       "2  50.245.225.205     172.16.1.52   22050      80        6       6    648   \n",
       "3     172.16.1.52  50.245.225.205      80   22050        6       5    582   \n",
       "4  50.245.225.205     172.16.1.52   51466      80        6       8    723   \n",
       "5     172.16.1.52  50.245.225.205      80   51466        6      11  10996   \n",
       "6  50.245.225.205     172.16.1.52   49748      80        6       7    705   \n",
       "7     172.16.1.52  50.245.225.205      80   49748        6      13  12958   \n",
       "8  50.245.225.205     172.16.1.52   18681      80        6       5    572   \n",
       "9     172.16.1.52  50.245.225.205      80   18681        6       5    638   \n",
       "\n",
       "    startTime  timeTook  status  \n",
       "0  1612980900         9       1  \n",
       "1  1612980900         9       1  \n",
       "2  1612980900         9       1  \n",
       "3  1612980900         9       1  \n",
       "4  1612980900         9       1  \n",
       "5  1612980900         9       1  \n",
       "6  1612980900         9       1  \n",
       "7  1612980900         9       1  \n",
       "8  1612980900         9       1  \n",
       "9  1612980900         9       1  "
      ]
     },
     "execution_count": 7,
     "metadata": {},
     "output_type": "execute_result"
    }
   ],
   "source": [
    "df.head(10)"
   ]
  },
  {
   "cell_type": "markdown",
   "metadata": {},
   "source": [
    "### Statistical views of the data"
   ]
  },
  {
   "cell_type": "code",
   "execution_count": 8,
   "metadata": {},
   "outputs": [
    {
     "data": {
      "text/plain": [
       "count    813100.000000\n",
       "mean         14.809075\n",
       "std           9.398437\n",
       "min           0.000000\n",
       "25%          13.000000\n",
       "50%          13.000000\n",
       "75%          14.000000\n",
       "max          61.000000\n",
       "Name: timeTook, dtype: float64"
      ]
     },
     "execution_count": 8,
     "metadata": {},
     "output_type": "execute_result"
    }
   ],
   "source": [
    "df['timeTook'].describe()"
   ]
  },
  {
   "cell_type": "code",
   "execution_count": 9,
   "metadata": {},
   "outputs": [
    {
     "data": {
      "text/plain": [
       "count           813100\n",
       "unique            7915\n",
       "top       19:35:28.000\n",
       "freq              4880\n",
       "Name: time, dtype: object"
      ]
     },
     "execution_count": 9,
     "metadata": {},
     "output_type": "execute_result"
    }
   ],
   "source": [
    "df['time'].describe()"
   ]
  },
  {
   "cell_type": "code",
   "execution_count": 10,
   "metadata": {},
   "outputs": [
    {
     "name": "stdout",
     "output_type": "stream",
     "text": [
      "There are 1654 unique IP address.\n"
     ]
    }
   ],
   "source": [
    "uniqueIP = set()\n",
    "for i in sourceIP:\n",
    "    uniqueIP.add(i)\n",
    "for i in destIP:\n",
    "    uniqueIP.add(i)\n",
    "print(\"There are \" + str(len(uniqueIP)) + \" unique IP address.\")"
   ]
  },
  {
   "cell_type": "markdown",
   "metadata": {},
   "source": [
    "#### IP address that appeared the most from source to destination"
   ]
  },
  {
   "cell_type": "code",
   "execution_count": 11,
   "metadata": {},
   "outputs": [
    {
     "data": {
      "text/plain": [
       "172.16.1.52       358159\n",
       "172.16.1.196      322741\n",
       "73.180.143.70      26499\n",
       "10.3.252.33        23185\n",
       "50.245.225.205     11925\n",
       "                   ...  \n",
       "81.12.87.170           1\n",
       "192.241.206.25         1\n",
       "45.232.140.55          1\n",
       "49.234.119.42          1\n",
       "198.199.110.83         1\n",
       "Name: sourceIP, Length: 1654, dtype: int64"
      ]
     },
     "execution_count": 11,
     "metadata": {},
     "output_type": "execute_result"
    }
   ],
   "source": [
    "df.sourceIP.value_counts()"
   ]
  },
  {
   "cell_type": "code",
   "execution_count": 12,
   "metadata": {},
   "outputs": [
    {
     "data": {
      "text/plain": [
       "<AxesSubplot:>"
      ]
     },
     "execution_count": 12,
     "metadata": {},
     "output_type": "execute_result"
    },
    {
     "data": {
      "image/png": "[encoded data removed]",
      "text/plain": [
       "<Figure size 432x288 with 1 Axes>"
      ]
     },
     "metadata": {
      "needs_background": "light"
     },
     "output_type": "display_data"
    }
   ],
   "source": [
    "df.sourceIP.value_counts().head(10).plot.barh()"
   ]
  },
  {
   "cell_type": "code",
   "execution_count": 13,
   "metadata": {},
   "outputs": [
    {
     "data": {
      "text/plain": [
       "172.16.1.52        359118\n",
       "172.16.1.196       334239\n",
       "73.180.143.70       26493\n",
       "50.245.225.205      11925\n",
       "172.16.1.241         8379\n",
       "                    ...  \n",
       "167.71.143.238          1\n",
       "113.128.104.120         1\n",
       "128.107.253.172         1\n",
       "167.114.92.33           1\n",
       "167.71.231.224          1\n",
       "Name: destIP, Length: 212, dtype: int64"
      ]
     },
     "execution_count": 13,
     "metadata": {},
     "output_type": "execute_result"
    }
   ],
   "source": [
    "df.destIP.value_counts()"
   ]
  },
  {
   "cell_type": "code",
   "execution_count": 14,
   "metadata": {},
   "outputs": [
    {
     "data": {
      "text/plain": [
       "<AxesSubplot:>"
      ]
     },
     "execution_count": 14,
     "metadata": {},
     "output_type": "execute_result"
    },
    {
     "data": {
      "image/png": "[encoded data removed]",
      "text/plain": [
       "<Figure size 432x288 with 1 Axes>"
      ]
     },
     "metadata": {
      "needs_background": "light"
     },
     "output_type": "display_data"
    }
   ],
   "source": [
    "df.destIP.value_counts().head(10).plot.barh()"
   ]
  },
  {
   "cell_type": "code",
   "execution_count": 15,
   "metadata": {},
   "outputs": [
    {
     "data": {
      "text/plain": [
       "1    789081\n",
       "0     24019\n",
       "Name: status, dtype: int64"
      ]
     },
     "execution_count": 15,
     "metadata": {},
     "output_type": "execute_result"
    }
   ],
   "source": [
    "# 1 is accept, 0 is reject\n",
    "df.status.value_counts()"
   ]
  },
  {
   "cell_type": "code",
   "execution_count": 16,
   "metadata": {},
   "outputs": [
    {
     "data": {
      "text/plain": [
       "19:35:28.000    4880\n",
       "19:35:01.000    4374\n",
       "19:32:00.000    4227\n",
       "19:34:00.000    4146\n",
       "19:33:01.000    4052\n",
       "                ... \n",
       "18:43:28.000       1\n",
       "18:16:35.000       1\n",
       "20:54:52.000       1\n",
       "20:01:43.000       1\n",
       "20:03:15.000       1\n",
       "Name: time, Length: 7915, dtype: int64"
      ]
     },
     "execution_count": 16,
     "metadata": {},
     "output_type": "execute_result"
    }
   ],
   "source": [
    "df.time.value_counts()"
   ]
  },
  {
   "cell_type": "code",
   "execution_count": 17,
   "metadata": {},
   "outputs": [
    {
     "data": {
      "text/plain": [
       "<AxesSubplot:>"
      ]
     },
     "execution_count": 17,
     "metadata": {},
     "output_type": "execute_result"
    },
    {
     "data": {
      "image/png": "[encoded data removed]",
      "text/plain": [
       "<Figure size 432x288 with 1 Axes>"
      ]
     },
     "metadata": {
      "needs_background": "light"
     },
     "output_type": "display_data"
    }
   ],
   "source": [
    "df.sourceIP.value_counts().head(10).plot.barh()"
   ]
  },
  {
   "cell_type": "code",
   "execution_count": 18,
   "metadata": {},
   "outputs": [
    {
     "data": {
      "text/plain": [
       "<AxesSubplot:>"
      ]
     },
     "execution_count": 18,
     "metadata": {},
     "output_type": "execute_result"
    },
    {
     "data": {
      "image/png": "[encoded data removed]",
      "text/plain": [
       "<Figure size 432x288 with 1 Axes>"
      ]
     },
     "metadata": {
      "needs_background": "light"
     },
     "output_type": "display_data"
    }
   ],
   "source": [
    "# check on the source ip address for the rejected \n",
    "df[df['status']==0].sourceIP.value_counts().head(10).plot.barh()"
   ]
  },
  {
   "cell_type": "code",
   "execution_count": 19,
   "metadata": {},
   "outputs": [
    {
     "data": {
      "text/plain": [
       "<AxesSubplot:>"
      ]
     },
     "execution_count": 19,
     "metadata": {},
     "output_type": "execute_result"
    },
    {
     "data": {
      "image/png": "[encoded data removed]",
      "text/plain": [
       "<Figure size 432x288 with 1 Axes>"
      ]
     },
     "metadata": {
      "needs_background": "light"
     },
     "output_type": "display_data"
    }
   ],
   "source": [
    "df[df['status']==0].destIP.value_counts().head(10).plot.barh()"
   ]
  },
  {
   "cell_type": "code",
   "execution_count": 20,
   "metadata": {},
   "outputs": [
    {
     "data": {
      "text/plain": [
       "<AxesSubplot:>"
      ]
     },
     "execution_count": 20,
     "metadata": {},
     "output_type": "execute_result"
    },
    {
     "data": {
      "image/png": "[encoded data removed]",
      "text/plain": [
       "<Figure size 432x288 with 1 Axes>"
      ]
     },
     "metadata": {
      "needs_background": "light"
     },
     "output_type": "display_data"
    }
   ],
   "source": [
    "# what time are all the rejections come from\n",
    "df[df['status']==0].time.value_counts().head(10).plot.barh()"
   ]
  },
  {
   "cell_type": "code",
   "execution_count": 21,
   "metadata": {},
   "outputs": [
    {
     "data": {
      "text/plain": [
       "<AxesSubplot:>"
      ]
     },
     "execution_count": 21,
     "metadata": {},
     "output_type": "execute_result"
    },
    {
     "data": {
      "image/png": "[encoded data removed]",
      "text/plain": [
       "<Figure size 432x288 with 1 Axes>"
      ]
     },
     "metadata": {
      "needs_background": "light"
     },
     "output_type": "display_data"
    }
   ],
   "source": [
    "# why is this time has so many rejects? check for the ip address from this time\n",
    "df[df['time'].str.contains(\"19:41:37.000\")].sourceIP.value_counts().head(10).plot.barh()"
   ]
  },
  {
   "cell_type": "code",
   "execution_count": 22,
   "metadata": {},
   "outputs": [
    {
     "data": {
      "text/plain": [
       "<AxesSubplot:>"
      ]
     },
     "execution_count": 22,
     "metadata": {},
     "output_type": "execute_result"
    },
    {
     "data": {
      "image/png": "[encoded data removed]",
      "text/plain": [
       "<Figure size 432x288 with 1 Axes>"
      ]
     },
     "metadata": {
      "needs_background": "light"
     },
     "output_type": "display_data"
    }
   ],
   "source": [
    "df[df['sourceIP'].str.contains(\"10.3.252.33\")].status.value_counts().plot.barh()\n",
    "#use lambda to calculate percentage of accept/reject"
   ]
  },
  {
   "cell_type": "code",
   "execution_count": 23,
   "metadata": {},
   "outputs": [
    {
     "data": {
      "text/plain": [
       "count    813100.000000\n",
       "mean          0.970460\n",
       "std           0.169315\n",
       "min           0.000000\n",
       "25%           1.000000\n",
       "50%           1.000000\n",
       "75%           1.000000\n",
       "max           1.000000\n",
       "Name: status, dtype: float64"
      ]
     },
     "execution_count": 23,
     "metadata": {},
     "output_type": "execute_result"
    }
   ],
   "source": [
    "df['status'].describe()\n",
    "#how many nodata?"
   ]
  },
  {
   "cell_type": "markdown",
   "metadata": {},
   "source": [
    "### Observations:\n",
    "The IP address 10.3.252.33 seems suspicious as it sends 2000+ requests in 1 second, and most of the rejections come from this address\n",
    "Further investigation is needed"
   ]
  },
  {
   "cell_type": "markdown",
   "metadata": {},
   "source": [
    "### Building unsupervised meachine learning model\n",
    "<font color=\"red\">This section is for demo only. No actually meaning in reality. </font>"
   ]
  },
  {
   "cell_type": "code",
   "execution_count": 24,
   "metadata": {},
   "outputs": [
    {
     "data": {
      "text/html": [
       "<div>\n",
       "<style scoped>\n",
       "    .dataframe tbody tr th:only-of-type {\n",
       "        vertical-align: middle;\n",
       "    }\n",
       "\n",
       "    .dataframe tbody tr th {\n",
       "        vertical-align: top;\n",
       "    }\n",
       "\n",
       "    .dataframe thead th {\n",
       "        text-align: right;\n",
       "    }\n",
       "</style>\n",
       "<table border=\"1\" class=\"dataframe\">\n",
       "  <thead>\n",
       "    <tr style=\"text-align: right;\">\n",
       "      <th></th>\n",
       "      <th>date</th>\n",
       "      <th>time</th>\n",
       "      <th>account</th>\n",
       "      <th>interface</th>\n",
       "      <th>sourceIP</th>\n",
       "      <th>destIP</th>\n",
       "      <th>srcPort</th>\n",
       "      <th>dstPort</th>\n",
       "      <th>protocol</th>\n",
       "      <th>packets</th>\n",
       "      <th>byte</th>\n",
       "      <th>startTime</th>\n",
       "      <th>timeTook</th>\n",
       "      <th>status</th>\n",
       "    </tr>\n",
       "  </thead>\n",
       "  <tbody>\n",
       "    <tr>\n",
       "      <th>0</th>\n",
       "      <td>2021-02-10</td>\n",
       "      <td>18:15:00.000</td>\n",
       "      <td>430405884063</td>\n",
       "      <td>eni-0b6ce86ea40aaa41b</td>\n",
       "      <td>50.245.225.205</td>\n",
       "      <td>172.16.1.52</td>\n",
       "      <td>9622</td>\n",
       "      <td>80</td>\n",
       "      <td>6</td>\n",
       "      <td>5</td>\n",
       "      <td>582</td>\n",
       "      <td>1612980900</td>\n",
       "      <td>9</td>\n",
       "      <td>1</td>\n",
       "    </tr>\n",
       "    <tr>\n",
       "      <th>1</th>\n",
       "      <td>2021-02-10</td>\n",
       "      <td>18:15:00.000</td>\n",
       "      <td>430405884063</td>\n",
       "      <td>eni-0b6ce86ea40aaa41b</td>\n",
       "      <td>172.16.1.52</td>\n",
       "      <td>50.245.225.205</td>\n",
       "      <td>80</td>\n",
       "      <td>9622</td>\n",
       "      <td>6</td>\n",
       "      <td>5</td>\n",
       "      <td>689</td>\n",
       "      <td>1612980900</td>\n",
       "      <td>9</td>\n",
       "      <td>1</td>\n",
       "    </tr>\n",
       "    <tr>\n",
       "      <th>2</th>\n",
       "      <td>2021-02-10</td>\n",
       "      <td>18:15:00.000</td>\n",
       "      <td>430405884063</td>\n",
       "      <td>eni-0b6ce86ea40aaa41b</td>\n",
       "      <td>50.245.225.205</td>\n",
       "      <td>172.16.1.52</td>\n",
       "      <td>22050</td>\n",
       "      <td>80</td>\n",
       "      <td>6</td>\n",
       "      <td>6</td>\n",
       "      <td>648</td>\n",
       "      <td>1612980900</td>\n",
       "      <td>9</td>\n",
       "      <td>1</td>\n",
       "    </tr>\n",
       "    <tr>\n",
       "      <th>3</th>\n",
       "      <td>2021-02-10</td>\n",
       "      <td>18:15:00.000</td>\n",
       "      <td>430405884063</td>\n",
       "      <td>eni-0b6ce86ea40aaa41b</td>\n",
       "      <td>172.16.1.52</td>\n",
       "      <td>50.245.225.205</td>\n",
       "      <td>80</td>\n",
       "      <td>22050</td>\n",
       "      <td>6</td>\n",
       "      <td>5</td>\n",
       "      <td>582</td>\n",
       "      <td>1612980900</td>\n",
       "      <td>9</td>\n",
       "      <td>1</td>\n",
       "    </tr>\n",
       "    <tr>\n",
       "      <th>4</th>\n",
       "      <td>2021-02-10</td>\n",
       "      <td>18:15:00.000</td>\n",
       "      <td>430405884063</td>\n",
       "      <td>eni-0b6ce86ea40aaa41b</td>\n",
       "      <td>50.245.225.205</td>\n",
       "      <td>172.16.1.52</td>\n",
       "      <td>51466</td>\n",
       "      <td>80</td>\n",
       "      <td>6</td>\n",
       "      <td>8</td>\n",
       "      <td>723</td>\n",
       "      <td>1612980900</td>\n",
       "      <td>9</td>\n",
       "      <td>1</td>\n",
       "    </tr>\n",
       "  </tbody>\n",
       "</table>\n",
       "</div>"
      ],
      "text/plain": [
       "         date          time       account              interface  \\\n",
       "0  2021-02-10  18:15:00.000  430405884063  eni-0b6ce86ea40aaa41b   \n",
       "1  2021-02-10  18:15:00.000  430405884063  eni-0b6ce86ea40aaa41b   \n",
       "2  2021-02-10  18:15:00.000  430405884063  eni-0b6ce86ea40aaa41b   \n",
       "3  2021-02-10  18:15:00.000  430405884063  eni-0b6ce86ea40aaa41b   \n",
       "4  2021-02-10  18:15:00.000  430405884063  eni-0b6ce86ea40aaa41b   \n",
       "\n",
       "         sourceIP          destIP srcPort dstPort protocol packets byte  \\\n",
       "0  50.245.225.205     172.16.1.52    9622      80        6       5  582   \n",
       "1     172.16.1.52  50.245.225.205      80    9622        6       5  689   \n",
       "2  50.245.225.205     172.16.1.52   22050      80        6       6  648   \n",
       "3     172.16.1.52  50.245.225.205      80   22050        6       5  582   \n",
       "4  50.245.225.205     172.16.1.52   51466      80        6       8  723   \n",
       "\n",
       "    startTime  timeTook  status  \n",
       "0  1612980900         9       1  \n",
       "1  1612980900         9       1  \n",
       "2  1612980900         9       1  \n",
       "3  1612980900         9       1  \n",
       "4  1612980900         9       1  "
      ]
     },
     "execution_count": 24,
     "metadata": {},
     "output_type": "execute_result"
    }
   ],
   "source": [
    "df.head()"
   ]
  },
  {
   "cell_type": "code",
   "execution_count": 25,
   "metadata": {
    "scrolled": true
   },
   "outputs": [
    {
     "data": {
      "text/plain": [
       "Index(['date', 'time', 'account', 'interface', 'sourceIP', 'destIP', 'srcPort',\n",
       "       'dstPort', 'protocol', 'packets', 'byte', 'startTime', 'timeTook',\n",
       "       'status'],\n",
       "      dtype='object')"
      ]
     },
     "execution_count": 25,
     "metadata": {},
     "output_type": "execute_result"
    }
   ],
   "source": [
    "df.columns"
   ]
  },
  {
   "cell_type": "markdown",
   "metadata": {},
   "source": [
    "<font color=\"grey\">The features we are interested are related to the potential threat to the server, which is the large amount of requests in a small portion of time.\n",
    "Therefore, startTime and timeTook are the features we are interested.</font>"
   ]
  },
  {
   "cell_type": "code",
   "execution_count": 26,
   "metadata": {},
   "outputs": [],
   "source": [
    "selected_features = ['startTime','timeTook']\n",
    "X = df[selected_features].values\n",
    "y = df['time'].values"
   ]
  },
  {
   "cell_type": "code",
   "execution_count": 27,
   "metadata": {},
   "outputs": [
    {
     "name": "stdout",
     "output_type": "stream",
     "text": [
      "[1612980900          9]\n"
     ]
    }
   ],
   "source": [
    "print(X[0])"
   ]
  },
  {
   "cell_type": "code",
   "execution_count": 28,
   "metadata": {
    "scrolled": true
   },
   "outputs": [
    {
     "data": {
      "text/plain": [
       "(813100, 2)"
      ]
     },
     "execution_count": 28,
     "metadata": {},
     "output_type": "execute_result"
    }
   ],
   "source": [
    "X.shape"
   ]
  },
  {
   "cell_type": "markdown",
   "metadata": {},
   "source": [
    "Using <font color=\"red\">k-means algorithm </font> from 'timeTook' over 'startTime' to group all the data into clusters to better identify the potential threat."
   ]
  },
  {
   "cell_type": "code",
   "execution_count": 29,
   "metadata": {},
   "outputs": [],
   "source": [
    "import numpy as np\n",
    "from mpl_toolkits import mplot3d\n",
    "import matplotlib.pyplot as plt\n",
    "from sklearn.cluster import KMeans\n",
    "from sklearn.datasets import make_blobs\n",
    "import warnings\n",
    "import matplotlib.cbook\n",
    "%matplotlib inline\n",
    "import numpy as np\n",
    "import matplotlib.pyplot as plt"
   ]
  },
  {
   "cell_type": "code",
   "execution_count": 30,
   "metadata": {},
   "outputs": [
    {
     "name": "stdout",
     "output_type": "stream",
     "text": [
      "[[1612980900          9]\n",
      " [1612980900          9]\n",
      " [1612980900          9]\n",
      " ...\n",
      " [1613001598          8]\n",
      " [1613001598          8]\n",
      " [1613001596          1]]\n"
     ]
    }
   ],
   "source": [
    "print(X)"
   ]
  },
  {
   "cell_type": "code",
   "execution_count": 31,
   "metadata": {},
   "outputs": [
    {
     "name": "stdout",
     "output_type": "stream",
     "text": [
      "['18:15:00.000' '18:15:00.000' '18:15:00.000' ... '23:59:58.000'\n",
      " '23:59:58.000' '23:59:56.000']\n"
     ]
    }
   ],
   "source": [
    "print(y)"
   ]
  },
  {
   "cell_type": "code",
   "execution_count": 32,
   "metadata": {
    "scrolled": true
   },
   "outputs": [
    {
     "data": {
      "image/png": "[encoded data removed]",
      "text/plain": [
       "<Figure size 432x288 with 1 Axes>"
      ]
     },
     "metadata": {
      "needs_background": "light"
     },
     "output_type": "display_data"
    }
   ],
   "source": [
    "# Scatter plot the data to check\n",
    "plt.scatter(X[:, 0], X[:, 1], marker='.', edgecolors='white')\n",
    "plt.show()"
   ]
  },
  {
   "cell_type": "code",
   "execution_count": 33,
   "metadata": {},
   "outputs": [
    {
     "name": "stdout",
     "output_type": "stream",
     "text": [
      "[4 4 4 ... 2 2 2]\n",
      "[[1.61298572e+09 1.48703637e+01]\n",
      " [1.61298355e+09 1.36707109e+01]\n",
      " [1.61299066e+09 3.04568177e+01]\n",
      " [1.61298459e+09 1.35698954e+01]\n",
      " [1.61298115e+09 1.74305049e+01]]\n"
     ]
    },
    {
     "data": {
      "image/png": "[encoded data removed]",
      "text/plain": [
       "<Figure size 576x360 with 1 Axes>"
      ]
     },
     "metadata": {},
     "output_type": "display_data"
    },
    {
     "data": {
      "text/plain": [
       "<matplotlib.collections.PathCollection at 0x1e639beb0a0>"
      ]
     },
     "execution_count": 33,
     "metadata": {},
     "output_type": "execute_result"
    },
    {
     "data": {
      "image/png": "[encoded data removed]",
      "text/plain": [
       "<Figure size 432x288 with 1 Axes>"
      ]
     },
     "metadata": {
      "needs_background": "light"
     },
     "output_type": "display_data"
    }
   ],
   "source": [
    "\"\"\" \n",
    "Set K-Means Clustering, \n",
    "n_clusters is number of clusters to form, \n",
    "k-means++ for smart way to converge faster\n",
    "n_init initializes different centroids each run and best output is shown in terms of inertia\n",
    "\"\"\"\n",
    "n = 5\n",
    "k_means = KMeans(init=\"k-means++\", n_clusters=n, n_init=15)\n",
    "\n",
    "# Fit KMeans model with feature matrix, X\n",
    "k_means.fit(X)\n",
    "\n",
    "# Grab the labels for each point in the model\n",
    "k_means_labels = k_means.labels_\n",
    "print(k_means_labels)\n",
    "\n",
    "# Get the coordinates of the cluster centers\n",
    "k_means_cluster_centers = k_means.cluster_centers_\n",
    "print(k_means_cluster_centers)\n",
    "\n",
    "# Visualize the Plot\n",
    "# Initialize plot with the specified dimensions.\n",
    "fig = plt.figure(figsize=(8, 5))\n",
    "\n",
    "# Colors uses a color map, which will produce an array of colors based on the number of labels there are.\n",
    "colors = plt.get_cmap('Spectral')(np.linspace(0, 1, len(set(k_means_labels))))\n",
    "\n",
    "# Create a plot with a black background for better visibility\n",
    "ax = fig.add_subplot(1, 1, 1, facecolor='black')\n",
    "\n",
    "# For loop that plots the data points and centroids.\n",
    "# k will range from 0-3, which will match the possible clusters that each data point is in.\n",
    "for k, col in zip(range(n), colors):\n",
    "    # Create a list of all data points, where the data points that are in the cluster are labeled as true\n",
    "    # Else they are labeled as false.\n",
    "    members = (k_means_labels == k)\n",
    "\n",
    "    # Define the centroid, or cluster center.\n",
    "    cluster_center = k_means_cluster_centers[k]\n",
    "\n",
    "    # Plots the data points with color col.\n",
    "    ax.plot(X[members, 0],\n",
    "            X[members, 1],\n",
    "            'w',\n",
    "            markerfacecolor=col,\n",
    "            marker='.')\n",
    "\n",
    "    # Plots the centroids with specified color, but with a darker outline\n",
    "    ax.plot(cluster_center[0],\n",
    "            cluster_center[1],\n",
    "            'o',\n",
    "            markerfacecolor=col,\n",
    "            markeredgecolor='k',\n",
    "            markersize=6)\n",
    "\n",
    "# Title of the plot\n",
    "ax.set_title('KMeans-Clustering')\n",
    "\n",
    "# Remove x-axis ticks\n",
    "ax.set_xticks(())\n",
    "\n",
    "# Remove y-axis ticks\n",
    "ax.set_yticks(())\n",
    "\n",
    "# Show the plot\n",
    "plt.show()\n",
    "\n",
    "# Display the scatter plot from above for comparison.\n",
    "plt.scatter(X[:, 0], X[:, 1], marker='.', edgecolors='white')\n"
   ]
  },
  {
   "cell_type": "markdown",
   "metadata": {},
   "source": [
    "Observation: Cluster 2, 3, and 4 are too packed together??"
   ]
  },
  {
   "cell_type": "markdown",
   "metadata": {},
   "source": [
    "Now, each log has a label from the cluster they belong, we can group each logs by their labels"
   ]
  },
  {
   "cell_type": "code",
   "execution_count": 34,
   "metadata": {},
   "outputs": [],
   "source": [
    "df['cluster_label'] = k_means_labels"
   ]
  },
  {
   "cell_type": "code",
   "execution_count": 35,
   "metadata": {},
   "outputs": [],
   "source": [
    "# df.head(10)"
   ]
  },
  {
   "cell_type": "code",
   "execution_count": 36,
   "metadata": {},
   "outputs": [
    {
     "name": "stdout",
     "output_type": "stream",
     "text": [
      "There are 5 unique clusters.\n"
     ]
    }
   ],
   "source": [
    "uniqueClusters = set()\n",
    "for i in k_means_labels:\n",
    "    uniqueClusters.add(i)\n",
    "print(\"There are \" + str(len(uniqueClusters)) + \" unique clusters.\")"
   ]
  },
  {
   "cell_type": "code",
   "execution_count": 37,
   "metadata": {},
   "outputs": [
    {
     "name": "stdout",
     "output_type": "stream",
     "text": [
      "Size of cluster 1: 306226\n",
      "Size of cluster 2: 176958\n",
      "Size of cluster 3: 26446\n",
      "Size of cluster 4: 265933\n",
      "Size of cluster 5: 37537\n"
     ]
    }
   ],
   "source": [
    "cluster1 = []\n",
    "cluster2 = []\n",
    "cluster3 = []\n",
    "cluster4 = []\n",
    "cluster5 = []\n",
    "for index, line in df.iterrows():\n",
    "    if   line['cluster_label'] == 0:\n",
    "        cluster1.append(line)\n",
    "    elif line['cluster_label'] == 1:\n",
    "        cluster2.append(line)\n",
    "    elif line['cluster_label'] == 2:\n",
    "        cluster3.append(line)\n",
    "    elif line['cluster_label'] == 3:\n",
    "        cluster4.append(line)\n",
    "    elif line['cluster_label'] == 4:\n",
    "        cluster5.append(line)\n",
    "print('Size of cluster 1: ' + str(len(cluster1)))\n",
    "print('Size of cluster 2: ' + str(len(cluster2)))\n",
    "print('Size of cluster 3: ' + str(len(cluster3)))\n",
    "print('Size of cluster 4: ' + str(len(cluster4)))\n",
    "print('Size of cluster 5: ' + str(len(cluster5)))"
   ]
  },
  {
   "cell_type": "code",
   "execution_count": 38,
   "metadata": {},
   "outputs": [
    {
     "name": "stdout",
     "output_type": "stream",
     "text": [
      "Total size of all clusters: 813100\n",
      "Size of dataset: 813100\n",
      "The sizes matches, each data is put into a dataset\n"
     ]
    }
   ],
   "source": [
    "print('Total size of all clusters: ' + str(len(cluster1) + len(cluster2) + len(cluster3) + len(cluster4) + len(cluster5)))\n",
    "print('Size of dataset: ' + str(len(df)))\n",
    "print('The sizes matches, each data is put into a dataset')"
   ]
  },
  {
   "cell_type": "markdown",
   "metadata": {},
   "source": [
    "#### Analyze the ip address in clusters"
   ]
  },
  {
   "cell_type": "code",
   "execution_count": 39,
   "metadata": {},
   "outputs": [],
   "source": [
    "# df[df['cluster_label']==0].sourceIP.value_counts().head(10).plot.barh()"
   ]
  },
  {
   "cell_type": "code",
   "execution_count": 40,
   "metadata": {},
   "outputs": [],
   "source": [
    "# df[df['cluster_label']==1].sourceIP.value_counts().head(10).plot.barh()"
   ]
  },
  {
   "cell_type": "code",
   "execution_count": 41,
   "metadata": {},
   "outputs": [],
   "source": [
    "# df[df['cluster_label']==2].sourceIP.value_counts().head(10).plot.barh()"
   ]
  },
  {
   "cell_type": "code",
   "execution_count": 42,
   "metadata": {},
   "outputs": [],
   "source": [
    "# df[df['cluster_label']==3].sourceIP.value_counts().head(10).plot.barh()"
   ]
  },
  {
   "cell_type": "code",
   "execution_count": 43,
   "metadata": {},
   "outputs": [],
   "source": [
    "# df[df['cluster_label']==4].sourceIP.value_counts().head(10).plot.barh()"
   ]
  },
  {
   "cell_type": "code",
   "execution_count": 44,
   "metadata": {
    "scrolled": true
   },
   "outputs": [],
   "source": [
    "# df[df['sourceIP'].str.contains('73.180.143.70')].time.value_counts().head(10).plot.barh()"
   ]
  },
  {
   "cell_type": "code",
   "execution_count": 45,
   "metadata": {
    "scrolled": true
   },
   "outputs": [],
   "source": [
    "# df[df['sourceIP'].str.contains('73.180.143.70')].timeTook.describe()"
   ]
  },
  {
   "cell_type": "code",
   "execution_count": 46,
   "metadata": {},
   "outputs": [],
   "source": [
    "# df[df['sourceIP'].str.contains('73.180.143.70')].timeTook.value_counts()"
   ]
  },
  {
   "cell_type": "markdown",
   "metadata": {},
   "source": [
    "<font color=\"grey\">\n",
    "Observation: although majorly its the internal ports (172.16.1.XXX) that creates the high traffic, there's no attacks detected that could possibly cursh the server.\n",
    "There are 2 suspicious factors in the data that's abnormal:\n",
    "1. The rejections from 10.3.252.33 address is too much.\n",
    "2. The ip address 73.180.143.70 has abnormal behaviors as a normal client as it sends hundreds of requests in different time stamps. Each request's process time is similar and results shiftings the in the cluster. </font>\n",
    "\n",
    "[This observation is in question]\n",
    "\n",
    "<hr>"
   ]
  },
  {
   "cell_type": "markdown",
   "metadata": {},
   "source": [
    "### Applying Supervised Maching Learning Models \n",
    "<font color=\"blue\">Apply ML models to identify and predict threats</font>"
   ]
  },
  {
   "cell_type": "code",
   "execution_count": 47,
   "metadata": {},
   "outputs": [],
   "source": [
    "timeFreq = dict()\n",
    "timeFreqInMinutes = dict()\n",
    "for index, line in df.iterrows():\n",
    "    #filter out the signal that come from the server ip\n",
    "    if line['sourceIP'] != '50.245.225.205':\n",
    "        n = int(line['startTime'])\n",
    "        t = n - 1612980720\n",
    "        tm = int((n - 1612980720)/60)\n",
    "        if t in timeFreq.keys():\n",
    "            timeFreq[t] = timeFreq[t] + 1\n",
    "        else:\n",
    "            timeFreq[t] = 1\n",
    "        if tm in timeFreqInMinutes.keys():\n",
    "            timeFreqInMinutes[tm] = timeFreqInMinutes[tm] + 1\n",
    "        else:\n",
    "            timeFreqInMinutes[tm] = 1"
   ]
  },
  {
   "cell_type": "code",
   "execution_count": 48,
   "metadata": {},
   "outputs": [
    {
     "data": {
      "text/plain": [
       "7915"
      ]
     },
     "execution_count": 48,
     "metadata": {},
     "output_type": "execute_result"
    }
   ],
   "source": [
    "# timeFreq.keys()\n",
    "len(timeFreq.keys())"
   ]
  },
  {
   "cell_type": "code",
   "execution_count": 49,
   "metadata": {},
   "outputs": [
    {
     "data": {
      "text/plain": [
       "[17278, 17279, 20876, 20878, 20879]"
      ]
     },
     "execution_count": 49,
     "metadata": {},
     "output_type": "execute_result"
    }
   ],
   "source": [
    "sorted(timeFreq.keys())[len(timeFreq.keys())-5:len(timeFreq.keys())]"
   ]
  },
  {
   "cell_type": "code",
   "execution_count": 50,
   "metadata": {
    "scrolled": true
   },
   "outputs": [
    {
     "name": "stdout",
     "output_type": "stream",
     "text": [
      "Estimated coefficients:\n",
      "b_0 = -19.183870052877168            \n",
      "b_1 = 0.018886710188144532\n"
     ]
    },
    {
     "data": {
      "image/png": "[encoded data removed]",
      "text/plain": [
       "<Figure size 432x288 with 1 Axes>"
      ]
     },
     "metadata": {
      "needs_background": "light"
     },
     "output_type": "display_data"
    }
   ],
   "source": [
    "import numpy as np\n",
    "import matplotlib.pyplot as plt\n",
    " \n",
    "def estimate_coef(x, y):\n",
    "    # number of observations/points\n",
    "    n = np.size(x)\n",
    " \n",
    "    # mean of x and y vector\n",
    "    m_x = np.mean(x)\n",
    "    m_y = np.mean(y)\n",
    " \n",
    "    # calculating cross-deviation and deviation about x\n",
    "    SS_xy = np.sum(y*x) - n*m_y*m_x\n",
    "    SS_xx = np.sum(x*x) - n*m_x*m_x\n",
    " \n",
    "    # calculating regression coefficients\n",
    "    b_1 = SS_xy / SS_xx\n",
    "    b_0 = m_y - b_1*m_x\n",
    " \n",
    "    return (b_0, b_1)\n",
    " \n",
    "def plot_regression_line(x, y, b):\n",
    "    # plotting the actual points as scatter plot\n",
    "    plt.scatter(x, y, color = \"m\",\n",
    "               marker = \"o\", s = 1)\n",
    "        # predicted response vector\n",
    "    y_pred = b[0] + b[1]*x\n",
    " \n",
    "    # plotting the regression line\n",
    "    plt.plot(x, y_pred, color = \"g\")\n",
    " \n",
    "    # putting labels\n",
    "    plt.xlabel('x')\n",
    "    plt.ylabel('y')\n",
    " \n",
    "    # function to show plot\n",
    "    plt.show()\n",
    " \n",
    "def main():\n",
    "    # observations / data\n",
    "    x = np.array(list(timeFreq.keys()))\n",
    "    y = np.array(list(timeFreq.values()))\n",
    " \n",
    "    # estimating coefficients\n",
    "    b = estimate_coef(x, y)\n",
    "    print(\"Estimated coefficients:\\nb_0 = {}  \\\n",
    "          \\nb_1 = {}\".format(b[0], b[1]))\n",
    " \n",
    "    # plotting regression line\n",
    "    plot_regression_line(x, y, b)\n",
    " \n",
    "if __name__ == \"__main__\":\n",
    "    main()"
   ]
  },
  {
   "cell_type": "markdown",
   "metadata": {},
   "source": [
    "#### Observations: \n",
    "The linear regression gives the coeficients of 208.8 transactions/second. The graph shows unbalanced relationship. Abnormal behaviors detected around the 5000 second time frame."
   ]
  },
  {
   "cell_type": "code",
   "execution_count": 51,
   "metadata": {},
   "outputs": [
    {
     "data": {
      "text/plain": [
       "[(5008, 4880),\n",
       " (4981, 4374),\n",
       " (4800, 4227),\n",
       " (4920, 4146),\n",
       " (4861, 4052),\n",
       " (4761, 3678),\n",
       " (4941, 3500),\n",
       " (4741, 3416),\n",
       " (4808, 3314)]"
      ]
     },
     "execution_count": 51,
     "metadata": {},
     "output_type": "execute_result"
    }
   ],
   "source": [
    "sorted(timeFreq.items(), key=lambda x: (-x[1], x[0]))[0:9]\n",
    "# output: time, counts"
   ]
  },
  {
   "cell_type": "markdown",
   "metadata": {},
   "source": [
    "### Analysis on the highest requests/transactions sent"
   ]
  },
  {
   "cell_type": "code",
   "execution_count": 52,
   "metadata": {},
   "outputs": [],
   "source": [
    "threshold = 1000 \n",
    "potentialAttackIPs = []\n",
    "for x,y in timeFreq.items():\n",
    "    if y > threshold:\n",
    "        potentialAttackIPs.extend(df[df['startTime'] == (x + 1612980720)].sourceIP.tolist())"
   ]
  },
  {
   "cell_type": "code",
   "execution_count": 53,
   "metadata": {},
   "outputs": [
    {
     "data": {
      "text/plain": [
       "656134"
      ]
     },
     "execution_count": 53,
     "metadata": {},
     "output_type": "execute_result"
    }
   ],
   "source": [
    "len(potentialAttackIPs)"
   ]
  },
  {
   "cell_type": "code",
   "execution_count": 54,
   "metadata": {},
   "outputs": [],
   "source": [
    "tempDF = pd.DataFrame({\n",
    "    'potentialAttackIPs':potentialAttackIPs\n",
    "})"
   ]
  },
  {
   "cell_type": "code",
   "execution_count": 55,
   "metadata": {
    "scrolled": true
   },
   "outputs": [
    {
     "data": {
      "text/plain": [
       "potentialAttackIPs\n",
       "172.16.1.52           317942\n",
       "172.16.1.196          294729\n",
       "73.180.143.70          22055\n",
       "10.3.252.33            14001\n",
       "50.230.35.38            2248\n",
       "                       ...  \n",
       "201.48.128.137             1\n",
       "201.90.9.90                1\n",
       "202.169.53.11              1\n",
       "204.2.134.162              1\n",
       "97.89.179.98               1\n",
       "Length: 285, dtype: int64"
      ]
     },
     "execution_count": 55,
     "metadata": {},
     "output_type": "execute_result"
    }
   ],
   "source": [
    "tempDF.value_counts()"
   ]
  },
  {
   "cell_type": "markdown",
   "metadata": {},
   "source": [
    "#### Observations:\n",
    "Found 2 attacks from these 2 ip address: 172.16.1.52 and 172.16.1.196. Both performed abnormal behaviors to the server, making over thousands of requests within seconds to the server. "
   ]
  },
  {
   "cell_type": "code",
   "execution_count": 56,
   "metadata": {},
   "outputs": [
    {
     "data": {
      "image/png": "[encoded data removed]",
      "text/plain": [
       "<Figure size 576x360 with 1 Axes>"
      ]
     },
     "metadata": {
      "needs_background": "light"
     },
     "output_type": "display_data"
    },
    {
     "data": {
      "text/plain": [
       "(<matplotlib.legend.Legend at 0x1e6a8d170a0>, None)"
      ]
     },
     "execution_count": 56,
     "metadata": {},
     "output_type": "execute_result"
    }
   ],
   "source": [
    "import numpy as np\n",
    "import matplotlib.pyplot as plt\n",
    "from sklearn.preprocessing import PolynomialFeatures\n",
    "from sklearn.linear_model import LinearRegression\n",
    "from sklearn.pipeline import Pipeline, make_pipeline\n",
    "x = np.array(list(timeFreqInMinutes.keys()))\n",
    "y = np.array(list(timeFreqInMinutes.values()))\n",
    "model_1 = make_pipeline(PolynomialFeatures(degree = 7),LinearRegression())\n",
    "model_1.fit(x.reshape(-1,1),y)\n",
    "plt.figure(figsize = (8,5))\n",
    "plt.scatter(x, y, color = \"m\",\n",
    "               marker = \"o\", s = 10)\n",
    "plt.plot(x,model_1.predict(x.reshape(-1,1)), color = 'red', label = 'Model')\n",
    "plt.title('Polynomial degree 7')\n",
    "plt.xlabel('timeStamp/min'), plt.ylabel('frequency')\n",
    "plt.legend(), plt.show()"
   ]
  },
  {
   "cell_type": "raw",
   "metadata": {},
   "source": [
    "# Import function to create training and test set splits\n",
    "#from sklearn.cross_validation import train_test_split\n",
    "from sklearn.model_selection import train_test_split\n",
    "# Import function to automatically create polynomial features! \n",
    "from sklearn.preprocessing import PolynomialFeatures\n",
    "# Import Linear Regression and a regularized regression function\n",
    "from sklearn.linear_model import LinearRegression\n",
    "from sklearn.linear_model import LassoCV\n",
    "# Finally, import function to make a machine learning pipeline\n",
    "from sklearn.pipeline import make_pipeline"
   ]
  },
  {
   "cell_type": "raw",
   "metadata": {},
   "source": [
    "# Alpha (regularization strength) of LASSO regression\n",
    "lasso_eps = 0.0001\n",
    "lasso_nalpha=20\n",
    "lasso_iter=5000\n",
    "\n",
    "# Min and max degree of polynomials features to consider\n",
    "degree_min = 2\n",
    "degree_max = 8\n",
    "\n",
    "# Test/train split\n",
    "X_train, X_test, y_train, y_test = train_test_split(df['X'], df['y'],test_size=test_set_fraction)\n",
    "\n",
    "# Make a pipeline model with polynomial transformation and LASSO regression with cross-validation, \n",
    "#run it for increasing degree of polynomial (complexity of the model)\n",
    "\n",
    "for degree in range(degree_min,degree_max+1):\n",
    "    model = make_pipeline(PolynomialFeatures(degree, \n",
    "interaction_only=False), \n",
    "LassoCV(eps=lasso_eps,n_alphas=lasso_nalpha,max_iter=lasso_iter,\n",
    "normalize=True,cv=5))\n",
    "    model.fit(X_train,y_train)\n",
    "    test_pred = np.array(model.predict(X_test))\n",
    "    RMSE=np.sqrt(np.sum(np.square(test_pred-y_test)))\n",
    "    test_score = model.score(X_test,y_test)"
   ]
  },
  {
   "cell_type": "markdown",
   "metadata": {},
   "source": [
    "### Further Work\n",
    "Further study is needed to apply various ML models to identify attack pattens based on #of exploits and also behavioral. Eg. a person/account one day access from US, the second day in UK, and the third day from Russia, etc. "
   ]
  },
  {
   "cell_type": "code",
   "execution_count": null,
   "metadata": {},
   "outputs": [],
   "source": []
  }
 ],
 "metadata": {
  "kernelspec": {
   "display_name": "Python 3",
   "language": "python",
   "name": "python3"
  },
  "language_info": {
   "codemirror_mode": {
    "name": "ipython",
    "version": 3
   },
   "file_extension": ".py",
   "mimetype": "text/x-python",
   "name": "python",
   "nbconvert_exporter": "python",
   "pygments_lexer": "ipython3",
   "version": "3.8.8"
  }
 },
 "nbformat": 4,
 "nbformat_minor": 2
}
